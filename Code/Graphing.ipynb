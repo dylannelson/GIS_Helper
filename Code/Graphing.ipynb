{
 "cells": [
  {
   "cell_type": "code",
   "execution_count": 1,
   "id": "macro-defeat",
   "metadata": {},
   "outputs": [],
   "source": [
    "# import webbrowser\n",
    "# webbrowser.open(\"index.html\")\n",
    "# !pip install plotly"
   ]
  },
  {
   "cell_type": "code",
   "execution_count": 2,
   "id": "greek-instrumentation",
   "metadata": {},
   "outputs": [],
   "source": [
    "import pandas as pd\n",
    "import geopandas as gpd\n",
    "import numpy as np\n",
    "from json import dump"
   ]
  },
  {
   "cell_type": "code",
   "execution_count": 3,
   "id": "facial-henry",
   "metadata": {},
   "outputs": [
    {
     "name": "stdout",
     "output_type": "stream",
     "text": [
      "shape:  (688, 13)\n"
     ]
    }
   ],
   "source": [
    "daily = gpd.read_file('ClusterOutput.gpkg')\n",
    "print('shape: ', daily.shape)\n",
    "# daily.head(2)"
   ]
  },
  {
   "cell_type": "code",
   "execution_count": 4,
   "id": "sonic-bookmark",
   "metadata": {},
   "outputs": [],
   "source": [
    "def translate_polygon(input_polygon):\n",
    "    # converts polygon object to a list of verticies \n",
    "    # and also the centroid for centering on the map\n",
    "    \n",
    "    poly = list(input_polygon.exterior.coords)\n",
    "    poly = list(map(lambda x: list(x), poly))\n",
    "\n",
    "    center = input_polygon.centroid.coords.xy\n",
    "    center = [center[0][0], center[1][0]]\n",
    "    return poly, center"
   ]
  },
  {
   "cell_type": "code",
   "execution_count": 5,
   "id": "equipped-scenario",
   "metadata": {},
   "outputs": [
    {
     "name": "stdout",
     "output_type": "stream",
     "text": [
      "len of poly 1:  295\n",
      "center of poly 1:  [-96.5085809571991, 35.51769231545942]\n"
     ]
    }
   ],
   "source": [
    "output, output2 = translate_polygon(daily.geometry[0])\n",
    "print('len of poly 1: ', len(output))\n",
    "print('center of poly 1: ', output2)\n",
    "assert daily.C.value_counts().iloc[0] == 1"
   ]
  },
  {
   "cell_type": "code",
   "execution_count": 6,
   "id": "alike-campus",
   "metadata": {},
   "outputs": [],
   "source": [
    "# numpy error from:\n",
    "# https://stackoverflow.com/questions/50916422/python-typeerror-object-of-type-int64-is-not-json-serializable/50916741\n",
    "def np_encoder(object):\n",
    "    if isinstance(object, np.generic):\n",
    "        return object.item()"
   ]
  },
  {
   "cell_type": "code",
   "execution_count": 7,
   "id": "regulated-cardiff",
   "metadata": {},
   "outputs": [],
   "source": [
    "def convert_from_table(df, file_name, amount = 6):\n",
    "    # *INSERT* potential search function here\n",
    "    assert type(file_name) == str\n",
    "    polys = df.geometry[:amount]\n",
    "    output_dict = dict()\n",
    "    for i in range(amount):\n",
    "        poly, center = translate_polygon(df['geometry'][i])\n",
    "        curr_id = df['C'][i]\n",
    "        individual_dict = {'id':curr_id,\n",
    "                   'polygon': poly,\n",
    "                   'centroid': center,\n",
    "                   'suggestion': 'N/A',\n",
    "                   'location':'N/A',\n",
    "                   'size': df['mean_size'][i]}\n",
    "        output_dict['{}'.format(i)] = individual_dict\n",
    "        \n",
    "    with open(file_name, \"w\") as outfile:\n",
    "        outfile.write(\"data = \")\n",
    "        dump(output_dict, outfile, default=np_encoder)\n",
    "    print('Saved file as :', file_name)\n",
    "    outfile.close()\n",
    "        \n",
    "    return output_dict"
   ]
  },
  {
   "cell_type": "code",
   "execution_count": 8,
   "id": "sapphire-nightmare",
   "metadata": {},
   "outputs": [
    {
     "name": "stdout",
     "output_type": "stream",
     "text": [
      "Saved file as : demo1.json\n"
     ]
    }
   ],
   "source": [
    "json_boi = convert_from_table(daily, 'demo1.json', 10)"
   ]
  },
  {
   "cell_type": "code",
   "execution_count": 9,
   "id": "closed-vermont",
   "metadata": {},
   "outputs": [
    {
     "data": {
      "text/html": [
       "<div>\n",
       "<style scoped>\n",
       "    .dataframe tbody tr th:only-of-type {\n",
       "        vertical-align: middle;\n",
       "    }\n",
       "\n",
       "    .dataframe tbody tr th {\n",
       "        vertical-align: top;\n",
       "    }\n",
       "\n",
       "    .dataframe thead th {\n",
       "        text-align: right;\n",
       "    }\n",
       "</style>\n",
       "<table border=\"1\" class=\"dataframe\">\n",
       "  <thead>\n",
       "    <tr style=\"text-align: right;\">\n",
       "      <th></th>\n",
       "      <th>0</th>\n",
       "      <th>1</th>\n",
       "      <th>2</th>\n",
       "      <th>3</th>\n",
       "      <th>4</th>\n",
       "      <th>5</th>\n",
       "      <th>6</th>\n",
       "      <th>7</th>\n",
       "      <th>8</th>\n",
       "      <th>9</th>\n",
       "    </tr>\n",
       "  </thead>\n",
       "  <tbody>\n",
       "    <tr>\n",
       "      <th>id</th>\n",
       "      <td>1</td>\n",
       "      <td>2</td>\n",
       "      <td>3</td>\n",
       "      <td>4</td>\n",
       "      <td>5</td>\n",
       "      <td>6</td>\n",
       "      <td>7</td>\n",
       "      <td>8</td>\n",
       "      <td>9</td>\n",
       "      <td>10</td>\n",
       "    </tr>\n",
       "    <tr>\n",
       "      <th>polygon</th>\n",
       "      <td>[[-99.03823439161106, 35.94818298598255], [-99...</td>\n",
       "      <td>[[-96.86924315495162, 38.79446227930765], [-96...</td>\n",
       "      <td>[[-88.93284770700025, 37.354671476603485], [-8...</td>\n",
       "      <td>[[-96.89014246003667, 36.45029239772845], [-96...</td>\n",
       "      <td>[[-103.39782583908939, 30.61082087359136], [-1...</td>\n",
       "      <td>[[-97.68111805085674, 35.00174110691963], [-97...</td>\n",
       "      <td>[[-89.26364781880086, 38.51201635115114], [-89...</td>\n",
       "      <td>[[-98.2237588729584, 39.597697055923845], [-98...</td>\n",
       "      <td>[[-101.58340413664837, 31.652608627868155], [-...</td>\n",
       "      <td>[[-96.48036696003268, 37.552916993384585], [-9...</td>\n",
       "    </tr>\n",
       "    <tr>\n",
       "      <th>centroid</th>\n",
       "      <td>[-96.5085809571991, 35.51769231545942]</td>\n",
       "      <td>[-95.2922968989513, 38.63318809962847]</td>\n",
       "      <td>[-88.69236498318023, 36.70624153269642]</td>\n",
       "      <td>[-95.86926766506363, 36.48608005503041]</td>\n",
       "      <td>[-102.48230677347563, 30.287433552866545]</td>\n",
       "      <td>[-98.37348368604853, 34.42191757167098]</td>\n",
       "      <td>[-88.73145871021718, 38.69290479214552]</td>\n",
       "      <td>[-97.23508019190456, 39.616221538470114]</td>\n",
       "      <td>[-100.72068085078647, 31.76595789507551]</td>\n",
       "      <td>[-95.69855941534591, 37.56184026487861]</td>\n",
       "    </tr>\n",
       "    <tr>\n",
       "      <th>suggestion</th>\n",
       "      <td>N/A</td>\n",
       "      <td>N/A</td>\n",
       "      <td>N/A</td>\n",
       "      <td>N/A</td>\n",
       "      <td>N/A</td>\n",
       "      <td>N/A</td>\n",
       "      <td>N/A</td>\n",
       "      <td>N/A</td>\n",
       "      <td>N/A</td>\n",
       "      <td>N/A</td>\n",
       "    </tr>\n",
       "    <tr>\n",
       "      <th>location</th>\n",
       "      <td>N/A</td>\n",
       "      <td>N/A</td>\n",
       "      <td>N/A</td>\n",
       "      <td>N/A</td>\n",
       "      <td>N/A</td>\n",
       "      <td>N/A</td>\n",
       "      <td>N/A</td>\n",
       "      <td>N/A</td>\n",
       "      <td>N/A</td>\n",
       "      <td>N/A</td>\n",
       "    </tr>\n",
       "    <tr>\n",
       "      <th>size</th>\n",
       "      <td>1.187673</td>\n",
       "      <td>0.922927</td>\n",
       "      <td>0.849729</td>\n",
       "      <td>1.01883</td>\n",
       "      <td>1.099271</td>\n",
       "      <td>1.119788</td>\n",
       "      <td>1.112122</td>\n",
       "      <td>1.40603</td>\n",
       "      <td>1.170228</td>\n",
       "      <td>1.090058</td>\n",
       "    </tr>\n",
       "  </tbody>\n",
       "</table>\n",
       "</div>"
      ],
      "text/plain": [
       "                                                            0  \\\n",
       "id                                                          1   \n",
       "polygon     [[-99.03823439161106, 35.94818298598255], [-99...   \n",
       "centroid               [-96.5085809571991, 35.51769231545942]   \n",
       "suggestion                                                N/A   \n",
       "location                                                  N/A   \n",
       "size                                                 1.187673   \n",
       "\n",
       "                                                            1  \\\n",
       "id                                                          2   \n",
       "polygon     [[-96.86924315495162, 38.79446227930765], [-96...   \n",
       "centroid               [-95.2922968989513, 38.63318809962847]   \n",
       "suggestion                                                N/A   \n",
       "location                                                  N/A   \n",
       "size                                                 0.922927   \n",
       "\n",
       "                                                            2  \\\n",
       "id                                                          3   \n",
       "polygon     [[-88.93284770700025, 37.354671476603485], [-8...   \n",
       "centroid              [-88.69236498318023, 36.70624153269642]   \n",
       "suggestion                                                N/A   \n",
       "location                                                  N/A   \n",
       "size                                                 0.849729   \n",
       "\n",
       "                                                            3  \\\n",
       "id                                                          4   \n",
       "polygon     [[-96.89014246003667, 36.45029239772845], [-96...   \n",
       "centroid              [-95.86926766506363, 36.48608005503041]   \n",
       "suggestion                                                N/A   \n",
       "location                                                  N/A   \n",
       "size                                                  1.01883   \n",
       "\n",
       "                                                            4  \\\n",
       "id                                                          5   \n",
       "polygon     [[-103.39782583908939, 30.61082087359136], [-1...   \n",
       "centroid            [-102.48230677347563, 30.287433552866545]   \n",
       "suggestion                                                N/A   \n",
       "location                                                  N/A   \n",
       "size                                                 1.099271   \n",
       "\n",
       "                                                            5  \\\n",
       "id                                                          6   \n",
       "polygon     [[-97.68111805085674, 35.00174110691963], [-97...   \n",
       "centroid              [-98.37348368604853, 34.42191757167098]   \n",
       "suggestion                                                N/A   \n",
       "location                                                  N/A   \n",
       "size                                                 1.119788   \n",
       "\n",
       "                                                            6  \\\n",
       "id                                                          7   \n",
       "polygon     [[-89.26364781880086, 38.51201635115114], [-89...   \n",
       "centroid              [-88.73145871021718, 38.69290479214552]   \n",
       "suggestion                                                N/A   \n",
       "location                                                  N/A   \n",
       "size                                                 1.112122   \n",
       "\n",
       "                                                            7  \\\n",
       "id                                                          8   \n",
       "polygon     [[-98.2237588729584, 39.597697055923845], [-98...   \n",
       "centroid             [-97.23508019190456, 39.616221538470114]   \n",
       "suggestion                                                N/A   \n",
       "location                                                  N/A   \n",
       "size                                                  1.40603   \n",
       "\n",
       "                                                            8  \\\n",
       "id                                                          9   \n",
       "polygon     [[-101.58340413664837, 31.652608627868155], [-...   \n",
       "centroid             [-100.72068085078647, 31.76595789507551]   \n",
       "suggestion                                                N/A   \n",
       "location                                                  N/A   \n",
       "size                                                 1.170228   \n",
       "\n",
       "                                                            9  \n",
       "id                                                         10  \n",
       "polygon     [[-96.48036696003268, 37.552916993384585], [-9...  \n",
       "centroid              [-95.69855941534591, 37.56184026487861]  \n",
       "suggestion                                                N/A  \n",
       "location                                                  N/A  \n",
       "size                                                 1.090058  "
      ]
     },
     "execution_count": 9,
     "metadata": {},
     "output_type": "execute_result"
    }
   ],
   "source": [
    "pd.DataFrame(json_boi)"
   ]
  }
 ],
 "metadata": {
  "kernelspec": {
   "display_name": "Python 3",
   "language": "python",
   "name": "python3"
  },
  "language_info": {
   "codemirror_mode": {
    "name": "ipython",
    "version": 3
   },
   "file_extension": ".py",
   "mimetype": "text/x-python",
   "name": "python",
   "nbconvert_exporter": "python",
   "pygments_lexer": "ipython3",
   "version": "3.7.9"
  }
 },
 "nbformat": 4,
 "nbformat_minor": 5
}
